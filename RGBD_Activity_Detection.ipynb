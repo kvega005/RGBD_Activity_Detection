{
 "cells": [
  {
   "cell_type": "markdown",
   "metadata": {},
   "source": [
    "# Actity Recognition From RGB-D Images"
   ]
  },
  {
   "cell_type": "code",
   "execution_count": 1,
   "metadata": {},
   "outputs": [],
   "source": [
    "%reload_ext autoreload\n",
    "%autoreload 2\n",
    "%matplotlib inline"
   ]
  },
  {
   "cell_type": "code",
   "execution_count": 2,
   "metadata": {},
   "outputs": [],
   "source": [
    "import os\n",
    "import random\n",
    "import PIL.Image\n",
    "import numpy as np\n",
    "from fastai.vision import *\n",
    "import matplotlib.pyplot as plt\n",
    "import xml.etree.cElementTree as ET\n",
    "from fastai.metrics import error_rate"
   ]
  },
  {
   "cell_type": "markdown",
   "metadata": {},
   "source": [
    "## Dataset Variables"
   ]
  },
  {
   "cell_type": "code",
   "execution_count": 3,
   "metadata": {},
   "outputs": [],
   "source": [
    "dataset_path = \"/data/datasets/users/Kevin/UTKinect\"\n",
    "folders = [\"depth\",\"rgb\"]\n",
    "label_fname = \"actionLabel.txt\""
   ]
  },
  {
   "cell_type": "code",
   "execution_count": 4,
   "metadata": {},
   "outputs": [],
   "source": [
    "data_dict = {\"depth\":[],\"rgb\":[],\"labels\":[],\"rgbd\":[]}\n",
    "# For reference: \n",
    "DATA_SIZE = 5865"
   ]
  },
  {
   "cell_type": "markdown",
   "metadata": {},
   "source": [
    "## Load Helper Functions"
   ]
  },
  {
   "cell_type": "code",
   "execution_count": 5,
   "metadata": {},
   "outputs": [],
   "source": [
    "def string_Arr_to_float(str_arr):\n",
    "    \"\"\"\n",
    "    func: convert all string numbers in list to float\n",
    "    param:  list of string numbers\n",
    "    out:  list of float numbers\n",
    "    \"\"\"\n",
    "    for x in range(len(str_arr)):\n",
    "        str_arr[x] = float(str_arr[x])\n",
    "    return str_arr"
   ]
  },
  {
   "cell_type": "code",
   "execution_count": 6,
   "metadata": {},
   "outputs": [],
   "source": [
    "def depth_xml_to_arr(imgFilePath, depthFilePath,beginFrm, endFrm, label):\n",
    "    \"\"\"\n",
    "    func: load depth image data from given range of frames, and append label\n",
    "    param: depthFilePath - path to file where frames are found\n",
    "           beginFrm - first frame of activty \n",
    "           endFrm - last frame of activty\n",
    "           label - label of activity\n",
    "    out: list of touples contatining depth data of each frame between beginFrm and endFrm and label\n",
    "    \"\"\"  \n",
    "    xmlFiles = [f for f in os.listdir(depthFilePath) if f.endswith('.xml')]\n",
    "    xmlFiles.sort(key=lambda item: (len(item), item))\n",
    "    \n",
    "    depthSequence = [[],[]]\n",
    "    \n",
    "    beginFrmFile = \"depthImg%i.xml\" %beginFrm\n",
    "    endFrmFile = \"depthImg%i.xml\" %endFrm\n",
    "    \n",
    "    beginIdx = xmlFiles.index(beginFrmFile)\n",
    "    endIdx = xmlFiles.index(endFrmFile)\n",
    "    useXmlFiles = xmlFiles[beginIdx:endIdx+1]\n",
    "    \n",
    "    for xmlFile in useXmlFiles:\n",
    "        imgFile = xmlFile.replace(\"depthImg\",\"colorImg\").replace(\".xml\",\".jpg\")\n",
    "        img = PIL.Image.open(os.path.join(imgFilePath, imgFile))\n",
    "        \n",
    "        tree = ET.parse(os.path.join(depthFilePath, xmlFile))\n",
    "        filename, _ = os.path.splitext(xmlFile)\n",
    "        elem = tree.find('%s/data' % filename)\n",
    "        strData = elem.text\n",
    "        str_Arr = strData.split()\n",
    "        floatData = string_Arr_to_float(str_Arr)\n",
    "        arr = np.array(floatData)\n",
    "        depthData = np.array(floatData).reshape(240, 320)\n",
    "        \n",
    "        img = img.resize((320,240))\n",
    "        rgb = np.array(img)\n",
    "        \n",
    "        data_dict[\"rgb\"].append(rgb)\n",
    "        data_dict[\"depth\"].append(depthData)\n",
    "        data_dict[\"labels\"].append(label)\n",
    "        #data_dict[\"rgbd\"].append(np.concatenate((rgb, depthData), axis = 2))"
   ]
  },
  {
   "cell_type": "code",
   "execution_count": 7,
   "metadata": {},
   "outputs": [],
   "source": [
    "def load_depth_imgs(img_path,depth_path,label_fname):\n",
    "    \"\"\"\n",
    "    func: load depth image data from xml file\n",
    "    param: depth_path - path to folder with depth data\n",
    "           label_fname - name of the label txt file\n",
    "    out: list of touples with depth img and activity label\n",
    "    \"\"\"    \n",
    "    configFile = os.path.join(dataset_path, label_fname)\n",
    "    with open(configFile, \"r\") as f:\n",
    "        lines = f.read().splitlines()\n",
    "\n",
    "    for i in range(0,220,11):\n",
    "        currLines = lines[i:i+11]\n",
    "        depthFileDir = currLines[0]\n",
    "\n",
    "        print(\"loading %s\" %depthFileDir)\n",
    "        for line in currLines[1:]:\n",
    "                splitIdx = line.index(\":\")\n",
    "                label = line[:splitIdx]\n",
    "                nums = line[splitIdx+1:].split()\n",
    "                beginFrm = int(nums[0])\n",
    "                endFrm = int(nums[1])\n",
    "                \n",
    "                depthFilePath = os.path.join(depth_path,depthFileDir)\n",
    "                imgFilePath = os.path.join(img_path,depthFileDir)\n",
    "                \n",
    "                depth_xml_to_arr(imgFilePath, depthFilePath,beginFrm, endFrm, label)\n",
    "    \n",
    "    print(\"loading complete!\")"
   ]
  },
  {
   "cell_type": "markdown",
   "metadata": {},
   "source": [
    "## Load Data  "
   ]
  },
  {
   "cell_type": "code",
   "execution_count": 8,
   "metadata": {},
   "outputs": [
    {
     "name": "stdout",
     "output_type": "stream",
     "text": [
      "loading s01_e01\n",
      "loading s01_e02\n",
      "loading s02_e01\n",
      "loading s02_e02\n",
      "loading s03_e01\n",
      "loading s03_e02\n",
      "loading s04_e01\n",
      "loading s04_e02\n",
      "loading s05_e01\n",
      "loading s05_e02\n",
      "loading s06_e01\n",
      "loading s06_e02\n",
      "loading s07_e01\n",
      "loading s07_e02\n",
      "loading s08_e01\n",
      "loading s08_e02\n",
      "loading s09_e01\n",
      "loading s09_e02\n",
      "loading s10_e01\n",
      "loading s10_e02\n",
      "loading complete!\n"
     ]
    }
   ],
   "source": [
    "depth_path = dataset_path + \"/depth\"\n",
    "img_path = dataset_path + \"/RGB\"\n",
    "load_depth_imgs(img_path,depth_path,label_fname)"
   ]
  },
  {
   "cell_type": "code",
   "execution_count": 9,
   "metadata": {},
   "outputs": [
    {
     "data": {
      "text/plain": [
       "5865"
      ]
     },
     "execution_count": 9,
     "metadata": {},
     "output_type": "execute_result"
    }
   ],
   "source": [
    "len(data_dict[\"rgb\"])"
   ]
  },
  {
   "cell_type": "markdown",
   "metadata": {},
   "source": [
    "### Load Images to PyTorch"
   ]
  },
  {
   "cell_type": "code",
   "execution_count": 10,
   "metadata": {},
   "outputs": [],
   "source": [
    "depthData = torch.from_numpy(np.array(data_dict['depth'])).permute(0,1,2).type(torch.FloatTensor)\n",
    "depthData = depthData[:,None,:,:]"
   ]
  },
  {
   "cell_type": "code",
   "execution_count": 11,
   "metadata": {},
   "outputs": [],
   "source": [
    "imageData = torch.from_numpy(np.array(data_dict['rgb'])).permute(0,3,1,2)"
   ]
  },
  {
   "cell_type": "code",
   "execution_count": 12,
   "metadata": {
    "scrolled": true
   },
   "outputs": [
    {
     "data": {
      "text/plain": [
       "(<matplotlib.axes._subplots.AxesSubplot at 0x7f2e324affd0>,\n",
       " <matplotlib.axes._subplots.AxesSubplot at 0x7f2e31508210>)"
      ]
     },
     "execution_count": 12,
     "metadata": {},
     "output_type": "execute_result"
    },
    {
     "data": {
      "image/png": "[encoded data removed]",
      "text/plain": [
       "<Figure size 216x216 with 1 Axes>"
      ]
     },
     "metadata": {
      "needs_background": "light"
     },
     "output_type": "display_data"
    },
    {
     "data": {
      "image/png": "[encoded data removed]",
      "text/plain": [
       "<Figure size 216x216 with 1 Axes>"
      ]
     },
     "metadata": {
      "needs_background": "light"
     },
     "output_type": "display_data"
    }
   ],
   "source": [
    "show_image(imageData[0]), show_image(depthData[0])"
   ]
  },
  {
   "cell_type": "markdown",
   "metadata": {},
   "source": [
    "## Setting Up Learner"
   ]
  },
  {
   "cell_type": "markdown",
   "metadata": {},
   "source": [
    "Custom Fastai ImageList to support rgb-d images."
   ]
  },
  {
   "cell_type": "code",
   "execution_count": 13,
   "metadata": {},
   "outputs": [],
   "source": [
    "class ImageListRGBD(ImageList):\n",
    "    def open(self, i):\n",
    "        rgb = imageData[i].type(torch.FloatTensor)\n",
    "        rgbd = torch.cat((rgb,depthData[i]),0)\n",
    "        return Image(rgbd)"
   ]
  },
  {
   "cell_type": "markdown",
   "metadata": {},
   "source": [
    "### Seperate Train, Validation, and Test Sets"
   ]
  },
  {
   "cell_type": "code",
   "execution_count": 14,
   "metadata": {},
   "outputs": [],
   "source": [
    "def Diff(li1, li2):\n",
    "    \"\"\"\n",
    "    func: Remove a list of entries from a given list\n",
    "    param: l1 - a list of items\n",
    "           l2 - a list of items to be removed from l1\n",
    "    out: A list of the remaining items in l1       \n",
    "    \"\"\"\n",
    "    return (list(set(li1) - set(li2)))"
   ]
  },
  {
   "cell_type": "code",
   "execution_count": 15,
   "metadata": {},
   "outputs": [],
   "source": [
    "items = list(range(len(imageData)))\n",
    "test = random.sample(items,587)\n",
    "items = Diff(items,test)\n",
    "val = random.sample(items,1056)\n",
    "train = Diff(items, val)"
   ]
  },
  {
   "cell_type": "markdown",
   "metadata": {},
   "source": [
    "Train, validation, and test set sizes."
   ]
  },
  {
   "cell_type": "code",
   "execution_count": 16,
   "metadata": {},
   "outputs": [
    {
     "name": "stdout",
     "output_type": "stream",
     "text": [
      "train: 4222\n",
      "validation: 1056\n",
      "test: 587\n"
     ]
    }
   ],
   "source": [
    "print(\"train: %i\" %len(train))\n",
    "print(\"validation: %i\"%len(val))\n",
    "print(\"test: %i\"%len(test))"
   ]
  },
  {
   "cell_type": "markdown",
   "metadata": {},
   "source": [
    "### Setup ImageList For Learner"
   ]
  },
  {
   "cell_type": "code",
   "execution_count": 17,
   "metadata": {},
   "outputs": [],
   "source": [
    "images = ImageListRGBD(items)\n",
    "images = images.split_by_rand_pct() #Fastai's quirk, image list needs to be initiated and split to assign train and valid\n",
    "\n",
    "images.train = ImageListRGBD(train)\n",
    "images.valid = ImageListRGBD(val)\n",
    "\n",
    "func = lambda i:data_dict[\"labels\"][i]\n",
    "images = images.label_from_func(func)"
   ]
  },
  {
   "cell_type": "markdown",
   "metadata": {},
   "source": [
    "### Setup Image List For Test Set"
   ]
  },
  {
   "cell_type": "markdown",
   "metadata": {},
   "source": [
    "Fastai does not support labeled test set. In order to get statistics on model accuracy, we must create a databunch with the test set instead of the validation set and validate the model on the test set. The training set is repeated here because Fastai does not support initiating a databunch without a training set."
   ]
  },
  {
   "cell_type": "code",
   "execution_count": 18,
   "metadata": {},
   "outputs": [],
   "source": [
    "test_set = ImageListRGBD(items)\n",
    "test_set = test_set.split_by_rand_pct() \n",
    "\n",
    "test_set.train = ImageListRGBD(train)\n",
    "test_set.valid = ImageListRGBD(test)\n",
    "\n",
    "# label test\n",
    "func = lambda i:data_dict[\"labels\"][i]\n",
    "test_set = test_set.label_from_func(func)"
   ]
  },
  {
   "cell_type": "markdown",
   "metadata": {},
   "source": [
    "### Create Databunches"
   ]
  },
  {
   "cell_type": "code",
   "execution_count": 19,
   "metadata": {},
   "outputs": [],
   "source": [
    "tfms = None #get_transforms(max_rotate=25)# or tfms=None if none are needed\n",
    "size=224 # size=(224,224) or (400,224)\n",
    "data = images.transform(tfms,size=size).databunch().normalize()\n",
    "test_data = test_set.transform(tfms,size=size).databunch().normalize()"
   ]
  },
  {
   "cell_type": "code",
   "execution_count": 20,
   "metadata": {},
   "outputs": [],
   "source": [
    "data.bach_size = 64"
   ]
  },
  {
   "cell_type": "code",
   "execution_count": 21,
   "metadata": {},
   "outputs": [
    {
     "data": {
      "text/plain": [
       "['carry',\n",
       " 'clapHands',\n",
       " 'pickUp',\n",
       " 'pull',\n",
       " 'push',\n",
       " 'sitDown',\n",
       " 'standUp',\n",
       " 'throw',\n",
       " 'walk',\n",
       " 'waveHands']"
      ]
     },
     "execution_count": 21,
     "metadata": {},
     "output_type": "execute_result"
    }
   ],
   "source": [
    "data.classes"
   ]
  },
  {
   "cell_type": "markdown",
   "metadata": {},
   "source": [
    "## Learner"
   ]
  },
  {
   "cell_type": "markdown",
   "metadata": {},
   "source": [
    "Modified resnet model to accept 4 channel image"
   ]
  },
  {
   "cell_type": "markdown",
   "metadata": {},
   "source": [
    "### ResNet-34"
   ]
  },
  {
   "cell_type": "code",
   "execution_count": 36,
   "metadata": {},
   "outputs": [],
   "source": [
    "input_channel = 4\n",
    "resnet = models.resnet34 ()\n",
    "resnet.conv1 = torch.nn.Conv2d (input_channel, 64, kernel_size = (7, 7), stride = (2, 2), padding = (3, 3), bias = False)\n",
    "resnet.avgpool = nn.AdaptiveAvgPool2d ((1, 1))\n",
    "resnet.fc = torch.nn.Linear(512, len(data.classes), bias=True)"
   ]
  },
  {
   "cell_type": "code",
   "execution_count": 37,
   "metadata": {},
   "outputs": [],
   "source": [
    "learn = cnn_learner (data, lambda x: resnet, metrics = accuracy)\n",
    "learn.unfreeze()"
   ]
  },
  {
   "cell_type": "code",
   "execution_count": 38,
   "metadata": {},
   "outputs": [
    {
     "data": {
      "text/html": [
       "\n",
       "    <div>\n",
       "        <style>\n",
       "            /* Turns off some styling */\n",
       "            progress {\n",
       "                /* gets rid of default border in Firefox and Opera. */\n",
       "                border: none;\n",
       "                /* Needs to be in here for Safari polyfill so background images work as expected. */\n",
       "                background-size: auto;\n",
       "            }\n",
       "            .progress-bar-interrupted, .progress-bar-interrupted::-webkit-progress-bar {\n",
       "                background: #F44336;\n",
       "            }\n",
       "        </style>\n",
       "      <progress value='1' class='' max='2', style='width:300px; height:20px; vertical-align: middle;'></progress>\n",
       "      50.00% [1/2 00:12<00:12]\n",
       "    </div>\n",
       "    \n",
       "<table border=\"1\" class=\"dataframe\">\n",
       "  <thead>\n",
       "    <tr style=\"text-align: left;\">\n",
       "      <th>epoch</th>\n",
       "      <th>train_loss</th>\n",
       "      <th>valid_loss</th>\n",
       "      <th>accuracy</th>\n",
       "      <th>time</th>\n",
       "    </tr>\n",
       "  </thead>\n",
       "  <tbody>\n",
       "    <tr>\n",
       "      <td>0</td>\n",
       "      <td>3.179482</td>\n",
       "      <td>#na#</td>\n",
       "      <td>00:12</td>\n",
       "    </tr>\n",
       "  </tbody>\n",
       "</table><p>\n",
       "\n",
       "    <div>\n",
       "        <style>\n",
       "            /* Turns off some styling */\n",
       "            progress {\n",
       "                /* gets rid of default border in Firefox and Opera. */\n",
       "                border: none;\n",
       "                /* Needs to be in here for Safari polyfill so background images work as expected. */\n",
       "                background-size: auto;\n",
       "            }\n",
       "            .progress-bar-interrupted, .progress-bar-interrupted::-webkit-progress-bar {\n",
       "                background: #F44336;\n",
       "            }\n",
       "        </style>\n",
       "      <progress value='25' class='' max='65', style='width:300px; height:20px; vertical-align: middle;'></progress>\n",
       "      38.46% [25/65 00:07<00:11 9.9138]\n",
       "    </div>\n",
       "    "
      ],
      "text/plain": [
       "<IPython.core.display.HTML object>"
      ]
     },
     "metadata": {},
     "output_type": "display_data"
    },
    {
     "name": "stdout",
     "output_type": "stream",
     "text": [
      "LR Finder is complete, type {learner_name}.recorder.plot() to see the graph.\n"
     ]
    },
    {
     "data": {
      "image/png": "[encoded data removed]",
      "text/plain": [
       "<Figure size 432x288 with 1 Axes>"
      ]
     },
     "metadata": {
      "needs_background": "light"
     },
     "output_type": "display_data"
    }
   ],
   "source": [
    "learn.lr_find()\n",
    "learn.recorder.plot()"
   ]
  },
  {
   "cell_type": "code",
   "execution_count": 40,
   "metadata": {},
   "outputs": [
    {
     "data": {
      "text/html": [
       "<table border=\"1\" class=\"dataframe\">\n",
       "  <thead>\n",
       "    <tr style=\"text-align: left;\">\n",
       "      <th>epoch</th>\n",
       "      <th>train_loss</th>\n",
       "      <th>valid_loss</th>\n",
       "      <th>accuracy</th>\n",
       "      <th>time</th>\n",
       "    </tr>\n",
       "  </thead>\n",
       "  <tbody>\n",
       "    <tr>\n",
       "      <td>0</td>\n",
       "      <td>3.412941</td>\n",
       "      <td>2.500823</td>\n",
       "      <td>0.188447</td>\n",
       "      <td>00:17</td>\n",
       "    </tr>\n",
       "    <tr>\n",
       "      <td>1</td>\n",
       "      <td>2.891352</td>\n",
       "      <td>2.207972</td>\n",
       "      <td>0.263258</td>\n",
       "      <td>00:17</td>\n",
       "    </tr>\n",
       "    <tr>\n",
       "      <td>2</td>\n",
       "      <td>2.312056</td>\n",
       "      <td>1.902482</td>\n",
       "      <td>0.339015</td>\n",
       "      <td>00:17</td>\n",
       "    </tr>\n",
       "    <tr>\n",
       "      <td>3</td>\n",
       "      <td>1.728295</td>\n",
       "      <td>1.550851</td>\n",
       "      <td>0.462121</td>\n",
       "      <td>00:17</td>\n",
       "    </tr>\n",
       "    <tr>\n",
       "      <td>4</td>\n",
       "      <td>1.183629</td>\n",
       "      <td>1.357155</td>\n",
       "      <td>0.535038</td>\n",
       "      <td>00:17</td>\n",
       "    </tr>\n",
       "    <tr>\n",
       "      <td>5</td>\n",
       "      <td>0.800676</td>\n",
       "      <td>1.119769</td>\n",
       "      <td>0.607008</td>\n",
       "      <td>00:17</td>\n",
       "    </tr>\n",
       "    <tr>\n",
       "      <td>6</td>\n",
       "      <td>0.553999</td>\n",
       "      <td>1.160818</td>\n",
       "      <td>0.607008</td>\n",
       "      <td>00:17</td>\n",
       "    </tr>\n",
       "    <tr>\n",
       "      <td>7</td>\n",
       "      <td>0.412280</td>\n",
       "      <td>1.529387</td>\n",
       "      <td>0.540720</td>\n",
       "      <td>00:17</td>\n",
       "    </tr>\n",
       "    <tr>\n",
       "      <td>8</td>\n",
       "      <td>0.415446</td>\n",
       "      <td>1.255971</td>\n",
       "      <td>0.629735</td>\n",
       "      <td>00:17</td>\n",
       "    </tr>\n",
       "    <tr>\n",
       "      <td>9</td>\n",
       "      <td>0.567663</td>\n",
       "      <td>1.219016</td>\n",
       "      <td>0.633523</td>\n",
       "      <td>00:17</td>\n",
       "    </tr>\n",
       "    <tr>\n",
       "      <td>10</td>\n",
       "      <td>0.496794</td>\n",
       "      <td>0.939188</td>\n",
       "      <td>0.709280</td>\n",
       "      <td>00:17</td>\n",
       "    </tr>\n",
       "    <tr>\n",
       "      <td>11</td>\n",
       "      <td>0.374591</td>\n",
       "      <td>1.200312</td>\n",
       "      <td>0.679924</td>\n",
       "      <td>00:17</td>\n",
       "    </tr>\n",
       "    <tr>\n",
       "      <td>12</td>\n",
       "      <td>0.292909</td>\n",
       "      <td>1.309733</td>\n",
       "      <td>0.668561</td>\n",
       "      <td>00:17</td>\n",
       "    </tr>\n",
       "    <tr>\n",
       "      <td>13</td>\n",
       "      <td>0.263723</td>\n",
       "      <td>1.157743</td>\n",
       "      <td>0.744318</td>\n",
       "      <td>00:17</td>\n",
       "    </tr>\n",
       "    <tr>\n",
       "      <td>14</td>\n",
       "      <td>0.277912</td>\n",
       "      <td>1.729305</td>\n",
       "      <td>0.639205</td>\n",
       "      <td>00:17</td>\n",
       "    </tr>\n",
       "    <tr>\n",
       "      <td>15</td>\n",
       "      <td>0.250848</td>\n",
       "      <td>0.801079</td>\n",
       "      <td>0.802083</td>\n",
       "      <td>00:17</td>\n",
       "    </tr>\n",
       "    <tr>\n",
       "      <td>16</td>\n",
       "      <td>0.205943</td>\n",
       "      <td>1.155314</td>\n",
       "      <td>0.741477</td>\n",
       "      <td>00:18</td>\n",
       "    </tr>\n",
       "    <tr>\n",
       "      <td>17</td>\n",
       "      <td>0.162423</td>\n",
       "      <td>0.543487</td>\n",
       "      <td>0.839015</td>\n",
       "      <td>00:17</td>\n",
       "    </tr>\n",
       "    <tr>\n",
       "      <td>18</td>\n",
       "      <td>0.167275</td>\n",
       "      <td>1.404823</td>\n",
       "      <td>0.702652</td>\n",
       "      <td>00:17</td>\n",
       "    </tr>\n",
       "    <tr>\n",
       "      <td>19</td>\n",
       "      <td>0.175129</td>\n",
       "      <td>0.765371</td>\n",
       "      <td>0.802083</td>\n",
       "      <td>00:18</td>\n",
       "    </tr>\n",
       "    <tr>\n",
       "      <td>20</td>\n",
       "      <td>0.123964</td>\n",
       "      <td>1.484688</td>\n",
       "      <td>0.705492</td>\n",
       "      <td>00:17</td>\n",
       "    </tr>\n",
       "    <tr>\n",
       "      <td>21</td>\n",
       "      <td>0.088280</td>\n",
       "      <td>0.313936</td>\n",
       "      <td>0.902462</td>\n",
       "      <td>00:17</td>\n",
       "    </tr>\n",
       "    <tr>\n",
       "      <td>22</td>\n",
       "      <td>0.078495</td>\n",
       "      <td>0.697947</td>\n",
       "      <td>0.813447</td>\n",
       "      <td>00:17</td>\n",
       "    </tr>\n",
       "    <tr>\n",
       "      <td>23</td>\n",
       "      <td>0.108769</td>\n",
       "      <td>0.857524</td>\n",
       "      <td>0.778409</td>\n",
       "      <td>00:17</td>\n",
       "    </tr>\n",
       "    <tr>\n",
       "      <td>24</td>\n",
       "      <td>0.109515</td>\n",
       "      <td>0.924292</td>\n",
       "      <td>0.771780</td>\n",
       "      <td>00:17</td>\n",
       "    </tr>\n",
       "    <tr>\n",
       "      <td>25</td>\n",
       "      <td>0.102514</td>\n",
       "      <td>0.654374</td>\n",
       "      <td>0.840909</td>\n",
       "      <td>00:17</td>\n",
       "    </tr>\n",
       "    <tr>\n",
       "      <td>26</td>\n",
       "      <td>0.065396</td>\n",
       "      <td>0.567298</td>\n",
       "      <td>0.851326</td>\n",
       "      <td>00:17</td>\n",
       "    </tr>\n",
       "    <tr>\n",
       "      <td>27</td>\n",
       "      <td>0.039113</td>\n",
       "      <td>0.251107</td>\n",
       "      <td>0.939394</td>\n",
       "      <td>00:17</td>\n",
       "    </tr>\n",
       "    <tr>\n",
       "      <td>28</td>\n",
       "      <td>0.046481</td>\n",
       "      <td>0.325968</td>\n",
       "      <td>0.913826</td>\n",
       "      <td>00:17</td>\n",
       "    </tr>\n",
       "    <tr>\n",
       "      <td>29</td>\n",
       "      <td>0.058201</td>\n",
       "      <td>0.648845</td>\n",
       "      <td>0.871212</td>\n",
       "      <td>00:17</td>\n",
       "    </tr>\n",
       "    <tr>\n",
       "      <td>30</td>\n",
       "      <td>0.043547</td>\n",
       "      <td>0.364920</td>\n",
       "      <td>0.887311</td>\n",
       "      <td>00:17</td>\n",
       "    </tr>\n",
       "    <tr>\n",
       "      <td>31</td>\n",
       "      <td>0.028435</td>\n",
       "      <td>0.303497</td>\n",
       "      <td>0.903409</td>\n",
       "      <td>00:17</td>\n",
       "    </tr>\n",
       "    <tr>\n",
       "      <td>32</td>\n",
       "      <td>0.019280</td>\n",
       "      <td>0.223900</td>\n",
       "      <td>0.946023</td>\n",
       "      <td>00:17</td>\n",
       "    </tr>\n",
       "    <tr>\n",
       "      <td>33</td>\n",
       "      <td>0.022072</td>\n",
       "      <td>0.204716</td>\n",
       "      <td>0.943182</td>\n",
       "      <td>00:17</td>\n",
       "    </tr>\n",
       "    <tr>\n",
       "      <td>34</td>\n",
       "      <td>0.020428</td>\n",
       "      <td>0.334206</td>\n",
       "      <td>0.917614</td>\n",
       "      <td>00:17</td>\n",
       "    </tr>\n",
       "    <tr>\n",
       "      <td>35</td>\n",
       "      <td>0.018816</td>\n",
       "      <td>0.251988</td>\n",
       "      <td>0.939394</td>\n",
       "      <td>00:17</td>\n",
       "    </tr>\n",
       "    <tr>\n",
       "      <td>36</td>\n",
       "      <td>0.048025</td>\n",
       "      <td>0.210890</td>\n",
       "      <td>0.946023</td>\n",
       "      <td>00:17</td>\n",
       "    </tr>\n",
       "    <tr>\n",
       "      <td>37</td>\n",
       "      <td>0.025042</td>\n",
       "      <td>0.218609</td>\n",
       "      <td>0.943182</td>\n",
       "      <td>00:17</td>\n",
       "    </tr>\n",
       "    <tr>\n",
       "      <td>38</td>\n",
       "      <td>0.013722</td>\n",
       "      <td>0.187392</td>\n",
       "      <td>0.946970</td>\n",
       "      <td>00:17</td>\n",
       "    </tr>\n",
       "    <tr>\n",
       "      <td>39</td>\n",
       "      <td>0.008299</td>\n",
       "      <td>0.159203</td>\n",
       "      <td>0.959280</td>\n",
       "      <td>00:17</td>\n",
       "    </tr>\n",
       "    <tr>\n",
       "      <td>40</td>\n",
       "      <td>0.005363</td>\n",
       "      <td>0.162329</td>\n",
       "      <td>0.957386</td>\n",
       "      <td>00:17</td>\n",
       "    </tr>\n",
       "    <tr>\n",
       "      <td>41</td>\n",
       "      <td>0.007171</td>\n",
       "      <td>0.190177</td>\n",
       "      <td>0.950758</td>\n",
       "      <td>00:18</td>\n",
       "    </tr>\n",
       "    <tr>\n",
       "      <td>42</td>\n",
       "      <td>0.005249</td>\n",
       "      <td>0.155453</td>\n",
       "      <td>0.955492</td>\n",
       "      <td>00:17</td>\n",
       "    </tr>\n",
       "    <tr>\n",
       "      <td>43</td>\n",
       "      <td>0.003005</td>\n",
       "      <td>0.153728</td>\n",
       "      <td>0.958333</td>\n",
       "      <td>00:17</td>\n",
       "    </tr>\n",
       "    <tr>\n",
       "      <td>44</td>\n",
       "      <td>0.003211</td>\n",
       "      <td>0.143783</td>\n",
       "      <td>0.961174</td>\n",
       "      <td>00:17</td>\n",
       "    </tr>\n",
       "    <tr>\n",
       "      <td>45</td>\n",
       "      <td>0.002979</td>\n",
       "      <td>0.147876</td>\n",
       "      <td>0.961174</td>\n",
       "      <td>00:17</td>\n",
       "    </tr>\n",
       "    <tr>\n",
       "      <td>46</td>\n",
       "      <td>0.002533</td>\n",
       "      <td>0.150214</td>\n",
       "      <td>0.964962</td>\n",
       "      <td>00:17</td>\n",
       "    </tr>\n",
       "    <tr>\n",
       "      <td>47</td>\n",
       "      <td>0.002739</td>\n",
       "      <td>0.159944</td>\n",
       "      <td>0.959280</td>\n",
       "      <td>00:17</td>\n",
       "    </tr>\n",
       "    <tr>\n",
       "      <td>48</td>\n",
       "      <td>0.003223</td>\n",
       "      <td>0.149318</td>\n",
       "      <td>0.964015</td>\n",
       "      <td>00:17</td>\n",
       "    </tr>\n",
       "    <tr>\n",
       "      <td>49</td>\n",
       "      <td>0.001970</td>\n",
       "      <td>0.155084</td>\n",
       "      <td>0.961174</td>\n",
       "      <td>00:17</td>\n",
       "    </tr>\n",
       "    <tr>\n",
       "      <td>50</td>\n",
       "      <td>0.002649</td>\n",
       "      <td>0.153357</td>\n",
       "      <td>0.963068</td>\n",
       "      <td>00:17</td>\n",
       "    </tr>\n",
       "    <tr>\n",
       "      <td>51</td>\n",
       "      <td>0.002416</td>\n",
       "      <td>0.158744</td>\n",
       "      <td>0.958333</td>\n",
       "      <td>00:17</td>\n",
       "    </tr>\n",
       "    <tr>\n",
       "      <td>52</td>\n",
       "      <td>0.001675</td>\n",
       "      <td>0.153655</td>\n",
       "      <td>0.963068</td>\n",
       "      <td>00:17</td>\n",
       "    </tr>\n",
       "    <tr>\n",
       "      <td>53</td>\n",
       "      <td>0.002316</td>\n",
       "      <td>0.157360</td>\n",
       "      <td>0.962121</td>\n",
       "      <td>00:17</td>\n",
       "    </tr>\n",
       "    <tr>\n",
       "      <td>54</td>\n",
       "      <td>0.001708</td>\n",
       "      <td>0.153065</td>\n",
       "      <td>0.962121</td>\n",
       "      <td>00:16</td>\n",
       "    </tr>\n",
       "  </tbody>\n",
       "</table>"
      ],
      "text/plain": [
       "<IPython.core.display.HTML object>"
      ]
     },
     "metadata": {},
     "output_type": "display_data"
    },
    {
     "data": {
      "image/png": "[encoded data removed]",
      "text/plain": [
       "<Figure size 432x288 with 1 Axes>"
      ]
     },
     "metadata": {
      "needs_background": "light"
     },
     "output_type": "display_data"
    }
   ],
   "source": [
    "learn.fit_one_cycle(55,slice(1e-04,1e-03))\n",
    "learn.recorder.plot_losses()\n",
    "learn.save(\"stage-34-3\")"
   ]
  },
  {
   "cell_type": "markdown",
   "metadata": {},
   "source": [
    "### ResNet-50"
   ]
  },
  {
   "cell_type": "code",
   "execution_count": 41,
   "metadata": {},
   "outputs": [],
   "source": [
    "input_channel = 4\n",
    "resnet = models.resnet50()\n",
    "resnet.conv1 = torch.nn.Conv2d (input_channel, 64, kernel_size = (7, 7), stride = (2, 2), padding = (3, 3), bias = False)\n",
    "resnet.avgpool = nn.AdaptiveAvgPool2d ((1, 1))\n",
    "resnet.fc = torch.nn.Linear(512, len(data.classes), bias=True)"
   ]
  },
  {
   "cell_type": "code",
   "execution_count": 42,
   "metadata": {},
   "outputs": [],
   "source": [
    "learn = cnn_learner (data, lambda x: resnet, metrics = accuracy)\n",
    "learn.unfreeze()"
   ]
  },
  {
   "cell_type": "code",
   "execution_count": 43,
   "metadata": {},
   "outputs": [
    {
     "data": {
      "text/html": [
       "\n",
       "    <div>\n",
       "        <style>\n",
       "            /* Turns off some styling */\n",
       "            progress {\n",
       "                /* gets rid of default border in Firefox and Opera. */\n",
       "                border: none;\n",
       "                /* Needs to be in here for Safari polyfill so background images work as expected. */\n",
       "                background-size: auto;\n",
       "            }\n",
       "            .progress-bar-interrupted, .progress-bar-interrupted::-webkit-progress-bar {\n",
       "                background: #F44336;\n",
       "            }\n",
       "        </style>\n",
       "      <progress value='1' class='' max='2', style='width:300px; height:20px; vertical-align: middle;'></progress>\n",
       "      50.00% [1/2 00:20<00:20]\n",
       "    </div>\n",
       "    \n",
       "<table border=\"1\" class=\"dataframe\">\n",
       "  <thead>\n",
       "    <tr style=\"text-align: left;\">\n",
       "      <th>epoch</th>\n",
       "      <th>train_loss</th>\n",
       "      <th>valid_loss</th>\n",
       "      <th>accuracy</th>\n",
       "      <th>time</th>\n",
       "    </tr>\n",
       "  </thead>\n",
       "  <tbody>\n",
       "    <tr>\n",
       "      <td>0</td>\n",
       "      <td>3.329842</td>\n",
       "      <td>#na#</td>\n",
       "      <td>00:20</td>\n",
       "    </tr>\n",
       "  </tbody>\n",
       "</table><p>\n",
       "\n",
       "    <div>\n",
       "        <style>\n",
       "            /* Turns off some styling */\n",
       "            progress {\n",
       "                /* gets rid of default border in Firefox and Opera. */\n",
       "                border: none;\n",
       "                /* Needs to be in here for Safari polyfill so background images work as expected. */\n",
       "                background-size: auto;\n",
       "            }\n",
       "            .progress-bar-interrupted, .progress-bar-interrupted::-webkit-progress-bar {\n",
       "                background: #F44336;\n",
       "            }\n",
       "        </style>\n",
       "      <progress value='24' class='' max='65', style='width:300px; height:20px; vertical-align: middle;'></progress>\n",
       "      36.92% [24/65 00:09<00:16 11.0588]\n",
       "    </div>\n",
       "    "
      ],
      "text/plain": [
       "<IPython.core.display.HTML object>"
      ]
     },
     "metadata": {},
     "output_type": "display_data"
    },
    {
     "name": "stdout",
     "output_type": "stream",
     "text": [
      "LR Finder is complete, type {learner_name}.recorder.plot() to see the graph.\n"
     ]
    },
    {
     "data": {
      "image/png": "[encoded data removed]",
      "text/plain": [
       "<Figure size 432x288 with 1 Axes>"
      ]
     },
     "metadata": {
      "needs_background": "light"
     },
     "output_type": "display_data"
    }
   ],
   "source": [
    "learn.lr_find()\n",
    "learn.recorder.plot()"
   ]
  },
  {
   "cell_type": "code",
   "execution_count": 45,
   "metadata": {},
   "outputs": [
    {
     "data": {
      "text/html": [
       "<table border=\"1\" class=\"dataframe\">\n",
       "  <thead>\n",
       "    <tr style=\"text-align: left;\">\n",
       "      <th>epoch</th>\n",
       "      <th>train_loss</th>\n",
       "      <th>valid_loss</th>\n",
       "      <th>accuracy</th>\n",
       "      <th>time</th>\n",
       "    </tr>\n",
       "  </thead>\n",
       "  <tbody>\n",
       "    <tr>\n",
       "      <td>0</td>\n",
       "      <td>3.023980</td>\n",
       "      <td>3.643381</td>\n",
       "      <td>0.199811</td>\n",
       "      <td>00:25</td>\n",
       "    </tr>\n",
       "    <tr>\n",
       "      <td>1</td>\n",
       "      <td>2.551872</td>\n",
       "      <td>2.330209</td>\n",
       "      <td>0.309659</td>\n",
       "      <td>00:25</td>\n",
       "    </tr>\n",
       "    <tr>\n",
       "      <td>2</td>\n",
       "      <td>2.094971</td>\n",
       "      <td>3.037934</td>\n",
       "      <td>0.292614</td>\n",
       "      <td>00:26</td>\n",
       "    </tr>\n",
       "    <tr>\n",
       "      <td>3</td>\n",
       "      <td>1.620173</td>\n",
       "      <td>1.025879</td>\n",
       "      <td>0.644886</td>\n",
       "      <td>00:25</td>\n",
       "    </tr>\n",
       "    <tr>\n",
       "      <td>4</td>\n",
       "      <td>1.219399</td>\n",
       "      <td>2.464522</td>\n",
       "      <td>0.419508</td>\n",
       "      <td>00:25</td>\n",
       "    </tr>\n",
       "    <tr>\n",
       "      <td>5</td>\n",
       "      <td>0.961916</td>\n",
       "      <td>1.254751</td>\n",
       "      <td>0.623106</td>\n",
       "      <td>00:25</td>\n",
       "    </tr>\n",
       "    <tr>\n",
       "      <td>6</td>\n",
       "      <td>0.809069</td>\n",
       "      <td>2.577377</td>\n",
       "      <td>0.485795</td>\n",
       "      <td>00:26</td>\n",
       "    </tr>\n",
       "    <tr>\n",
       "      <td>7</td>\n",
       "      <td>0.662109</td>\n",
       "      <td>0.916419</td>\n",
       "      <td>0.718750</td>\n",
       "      <td>00:25</td>\n",
       "    </tr>\n",
       "    <tr>\n",
       "      <td>8</td>\n",
       "      <td>0.640365</td>\n",
       "      <td>2.491179</td>\n",
       "      <td>0.419508</td>\n",
       "      <td>00:25</td>\n",
       "    </tr>\n",
       "    <tr>\n",
       "      <td>9</td>\n",
       "      <td>0.583918</td>\n",
       "      <td>2.863606</td>\n",
       "      <td>0.466856</td>\n",
       "      <td>00:25</td>\n",
       "    </tr>\n",
       "    <tr>\n",
       "      <td>10</td>\n",
       "      <td>0.528339</td>\n",
       "      <td>1.503709</td>\n",
       "      <td>0.645833</td>\n",
       "      <td>00:25</td>\n",
       "    </tr>\n",
       "    <tr>\n",
       "      <td>11</td>\n",
       "      <td>0.482806</td>\n",
       "      <td>0.767307</td>\n",
       "      <td>0.776515</td>\n",
       "      <td>00:25</td>\n",
       "    </tr>\n",
       "    <tr>\n",
       "      <td>12</td>\n",
       "      <td>0.485729</td>\n",
       "      <td>1.884221</td>\n",
       "      <td>0.526515</td>\n",
       "      <td>00:25</td>\n",
       "    </tr>\n",
       "    <tr>\n",
       "      <td>13</td>\n",
       "      <td>0.402776</td>\n",
       "      <td>1.133842</td>\n",
       "      <td>0.679924</td>\n",
       "      <td>00:25</td>\n",
       "    </tr>\n",
       "    <tr>\n",
       "      <td>14</td>\n",
       "      <td>0.396782</td>\n",
       "      <td>1.012011</td>\n",
       "      <td>0.702652</td>\n",
       "      <td>00:25</td>\n",
       "    </tr>\n",
       "    <tr>\n",
       "      <td>15</td>\n",
       "      <td>0.407394</td>\n",
       "      <td>0.724076</td>\n",
       "      <td>0.767992</td>\n",
       "      <td>00:25</td>\n",
       "    </tr>\n",
       "    <tr>\n",
       "      <td>16</td>\n",
       "      <td>0.391105</td>\n",
       "      <td>0.623042</td>\n",
       "      <td>0.825758</td>\n",
       "      <td>00:25</td>\n",
       "    </tr>\n",
       "    <tr>\n",
       "      <td>17</td>\n",
       "      <td>0.319642</td>\n",
       "      <td>0.811231</td>\n",
       "      <td>0.740530</td>\n",
       "      <td>00:25</td>\n",
       "    </tr>\n",
       "    <tr>\n",
       "      <td>18</td>\n",
       "      <td>0.282377</td>\n",
       "      <td>1.029502</td>\n",
       "      <td>0.753788</td>\n",
       "      <td>00:25</td>\n",
       "    </tr>\n",
       "    <tr>\n",
       "      <td>19</td>\n",
       "      <td>0.248674</td>\n",
       "      <td>1.536985</td>\n",
       "      <td>0.645833</td>\n",
       "      <td>00:26</td>\n",
       "    </tr>\n",
       "    <tr>\n",
       "      <td>20</td>\n",
       "      <td>0.239190</td>\n",
       "      <td>1.280281</td>\n",
       "      <td>0.710227</td>\n",
       "      <td>00:25</td>\n",
       "    </tr>\n",
       "    <tr>\n",
       "      <td>21</td>\n",
       "      <td>0.218231</td>\n",
       "      <td>0.628108</td>\n",
       "      <td>0.803977</td>\n",
       "      <td>00:25</td>\n",
       "    </tr>\n",
       "    <tr>\n",
       "      <td>22</td>\n",
       "      <td>0.249035</td>\n",
       "      <td>0.770455</td>\n",
       "      <td>0.776515</td>\n",
       "      <td>00:25</td>\n",
       "    </tr>\n",
       "    <tr>\n",
       "      <td>23</td>\n",
       "      <td>0.202997</td>\n",
       "      <td>0.480474</td>\n",
       "      <td>0.837121</td>\n",
       "      <td>00:25</td>\n",
       "    </tr>\n",
       "    <tr>\n",
       "      <td>24</td>\n",
       "      <td>0.191188</td>\n",
       "      <td>0.592198</td>\n",
       "      <td>0.812500</td>\n",
       "      <td>00:25</td>\n",
       "    </tr>\n",
       "    <tr>\n",
       "      <td>25</td>\n",
       "      <td>0.158753</td>\n",
       "      <td>0.365908</td>\n",
       "      <td>0.869318</td>\n",
       "      <td>00:25</td>\n",
       "    </tr>\n",
       "    <tr>\n",
       "      <td>26</td>\n",
       "      <td>0.145306</td>\n",
       "      <td>0.290649</td>\n",
       "      <td>0.911932</td>\n",
       "      <td>00:25</td>\n",
       "    </tr>\n",
       "    <tr>\n",
       "      <td>27</td>\n",
       "      <td>0.138799</td>\n",
       "      <td>0.176446</td>\n",
       "      <td>0.933712</td>\n",
       "      <td>00:25</td>\n",
       "    </tr>\n",
       "    <tr>\n",
       "      <td>28</td>\n",
       "      <td>0.112383</td>\n",
       "      <td>0.256213</td>\n",
       "      <td>0.925189</td>\n",
       "      <td>00:25</td>\n",
       "    </tr>\n",
       "    <tr>\n",
       "      <td>29</td>\n",
       "      <td>0.115272</td>\n",
       "      <td>0.228740</td>\n",
       "      <td>0.922348</td>\n",
       "      <td>00:25</td>\n",
       "    </tr>\n",
       "    <tr>\n",
       "      <td>30</td>\n",
       "      <td>0.114190</td>\n",
       "      <td>0.244747</td>\n",
       "      <td>0.917614</td>\n",
       "      <td>00:25</td>\n",
       "    </tr>\n",
       "    <tr>\n",
       "      <td>31</td>\n",
       "      <td>0.090862</td>\n",
       "      <td>0.127400</td>\n",
       "      <td>0.958333</td>\n",
       "      <td>00:25</td>\n",
       "    </tr>\n",
       "    <tr>\n",
       "      <td>32</td>\n",
       "      <td>0.080380</td>\n",
       "      <td>0.137450</td>\n",
       "      <td>0.955492</td>\n",
       "      <td>00:25</td>\n",
       "    </tr>\n",
       "    <tr>\n",
       "      <td>33</td>\n",
       "      <td>0.064388</td>\n",
       "      <td>0.169120</td>\n",
       "      <td>0.950758</td>\n",
       "      <td>00:25</td>\n",
       "    </tr>\n",
       "    <tr>\n",
       "      <td>34</td>\n",
       "      <td>0.052862</td>\n",
       "      <td>0.201009</td>\n",
       "      <td>0.946970</td>\n",
       "      <td>00:25</td>\n",
       "    </tr>\n",
       "    <tr>\n",
       "      <td>35</td>\n",
       "      <td>0.051472</td>\n",
       "      <td>0.185486</td>\n",
       "      <td>0.944129</td>\n",
       "      <td>00:25</td>\n",
       "    </tr>\n",
       "    <tr>\n",
       "      <td>36</td>\n",
       "      <td>0.046453</td>\n",
       "      <td>0.165337</td>\n",
       "      <td>0.960227</td>\n",
       "      <td>00:25</td>\n",
       "    </tr>\n",
       "    <tr>\n",
       "      <td>37</td>\n",
       "      <td>0.037341</td>\n",
       "      <td>0.144076</td>\n",
       "      <td>0.958333</td>\n",
       "      <td>00:25</td>\n",
       "    </tr>\n",
       "    <tr>\n",
       "      <td>38</td>\n",
       "      <td>0.031418</td>\n",
       "      <td>0.107599</td>\n",
       "      <td>0.970644</td>\n",
       "      <td>00:25</td>\n",
       "    </tr>\n",
       "    <tr>\n",
       "      <td>39</td>\n",
       "      <td>0.025097</td>\n",
       "      <td>0.124809</td>\n",
       "      <td>0.964962</td>\n",
       "      <td>00:25</td>\n",
       "    </tr>\n",
       "    <tr>\n",
       "      <td>40</td>\n",
       "      <td>0.022913</td>\n",
       "      <td>0.106536</td>\n",
       "      <td>0.972538</td>\n",
       "      <td>00:25</td>\n",
       "    </tr>\n",
       "    <tr>\n",
       "      <td>41</td>\n",
       "      <td>0.017052</td>\n",
       "      <td>0.126692</td>\n",
       "      <td>0.971591</td>\n",
       "      <td>00:25</td>\n",
       "    </tr>\n",
       "    <tr>\n",
       "      <td>42</td>\n",
       "      <td>0.017722</td>\n",
       "      <td>0.103039</td>\n",
       "      <td>0.973485</td>\n",
       "      <td>00:25</td>\n",
       "    </tr>\n",
       "    <tr>\n",
       "      <td>43</td>\n",
       "      <td>0.014852</td>\n",
       "      <td>0.091534</td>\n",
       "      <td>0.976326</td>\n",
       "      <td>00:25</td>\n",
       "    </tr>\n",
       "    <tr>\n",
       "      <td>44</td>\n",
       "      <td>0.011250</td>\n",
       "      <td>0.104799</td>\n",
       "      <td>0.974432</td>\n",
       "      <td>00:25</td>\n",
       "    </tr>\n",
       "    <tr>\n",
       "      <td>45</td>\n",
       "      <td>0.008064</td>\n",
       "      <td>0.090973</td>\n",
       "      <td>0.979167</td>\n",
       "      <td>00:25</td>\n",
       "    </tr>\n",
       "    <tr>\n",
       "      <td>46</td>\n",
       "      <td>0.005640</td>\n",
       "      <td>0.102430</td>\n",
       "      <td>0.977273</td>\n",
       "      <td>00:25</td>\n",
       "    </tr>\n",
       "    <tr>\n",
       "      <td>47</td>\n",
       "      <td>0.004202</td>\n",
       "      <td>0.099220</td>\n",
       "      <td>0.979167</td>\n",
       "      <td>00:25</td>\n",
       "    </tr>\n",
       "    <tr>\n",
       "      <td>48</td>\n",
       "      <td>0.003606</td>\n",
       "      <td>0.096659</td>\n",
       "      <td>0.980114</td>\n",
       "      <td>00:25</td>\n",
       "    </tr>\n",
       "    <tr>\n",
       "      <td>49</td>\n",
       "      <td>0.002348</td>\n",
       "      <td>0.105886</td>\n",
       "      <td>0.977273</td>\n",
       "      <td>00:25</td>\n",
       "    </tr>\n",
       "    <tr>\n",
       "      <td>50</td>\n",
       "      <td>0.003750</td>\n",
       "      <td>0.099557</td>\n",
       "      <td>0.979167</td>\n",
       "      <td>00:25</td>\n",
       "    </tr>\n",
       "    <tr>\n",
       "      <td>51</td>\n",
       "      <td>0.002661</td>\n",
       "      <td>0.101249</td>\n",
       "      <td>0.977273</td>\n",
       "      <td>00:25</td>\n",
       "    </tr>\n",
       "    <tr>\n",
       "      <td>52</td>\n",
       "      <td>0.002366</td>\n",
       "      <td>0.104331</td>\n",
       "      <td>0.977273</td>\n",
       "      <td>00:25</td>\n",
       "    </tr>\n",
       "    <tr>\n",
       "      <td>53</td>\n",
       "      <td>0.002307</td>\n",
       "      <td>0.102579</td>\n",
       "      <td>0.979167</td>\n",
       "      <td>00:25</td>\n",
       "    </tr>\n",
       "    <tr>\n",
       "      <td>54</td>\n",
       "      <td>0.002290</td>\n",
       "      <td>0.100253</td>\n",
       "      <td>0.977273</td>\n",
       "      <td>00:25</td>\n",
       "    </tr>\n",
       "  </tbody>\n",
       "</table>"
      ],
      "text/plain": [
       "<IPython.core.display.HTML object>"
      ]
     },
     "metadata": {},
     "output_type": "display_data"
    },
    {
     "data": {
      "image/png": "[encoded data removed]",
      "text/plain": [
       "<Figure size 432x288 with 1 Axes>"
      ]
     },
     "metadata": {
      "needs_background": "light"
     },
     "output_type": "display_data"
    }
   ],
   "source": [
    "learn.fit_one_cycle(55,slice(5e-03,1e-03))\n",
    "learn.recorder.plot_losses()\n",
    "learn.save(\"stage-50-2\")"
   ]
  },
  {
   "cell_type": "markdown",
   "metadata": {},
   "source": [
    "## Results"
   ]
  },
  {
   "cell_type": "code",
   "execution_count": 46,
   "metadata": {},
   "outputs": [
    {
     "data": {
      "text/html": [],
      "text/plain": [
       "<IPython.core.display.HTML object>"
      ]
     },
     "metadata": {},
     "output_type": "display_data"
    },
    {
     "data": {
      "text/plain": [
       "[0.06782087, tensor(0.9847)]"
      ]
     },
     "execution_count": 46,
     "metadata": {},
     "output_type": "execute_result"
    }
   ],
   "source": [
    "learn.validate(test_data.valid_dl, metrics=[accuracy])"
   ]
  },
  {
   "cell_type": "code",
   "execution_count": 49,
   "metadata": {},
   "outputs": [
    {
     "data": {
      "text/html": [],
      "text/plain": [
       "<IPython.core.display.HTML object>"
      ]
     },
     "metadata": {},
     "output_type": "display_data"
    },
    {
     "data": {
      "text/plain": [
       "True"
      ]
     },
     "execution_count": 49,
     "metadata": {},
     "output_type": "execute_result"
    }
   ],
   "source": [
    "interp = ClassificationInterpretation.from_learner(learn)\n",
    "losses,idxs = interp.top_losses()\n",
    "len(data.valid_ds)==len(losses)==len(idxs)"
   ]
  },
  {
   "cell_type": "code",
   "execution_count": 50,
   "metadata": {},
   "outputs": [
    {
     "data": {
      "image/png": "[encoded data removed]",
      "text/plain": [
       "<Figure size 720x720 with 1 Axes>"
      ]
     },
     "metadata": {
      "needs_background": "light"
     },
     "output_type": "display_data"
    }
   ],
   "source": [
    "interp.plot_confusion_matrix(figsize=(12,12), dpi=60)"
   ]
  },
  {
   "cell_type": "code",
   "execution_count": 51,
   "metadata": {},
   "outputs": [
    {
     "data": {
      "text/plain": [
       "[('push', 'pull', 7),\n",
       " ('pull', 'push', 4),\n",
       " ('pickUp', 'carry', 3),\n",
       " ('sitDown', 'standUp', 3),\n",
       " ('walk', 'carry', 2)]"
      ]
     },
     "execution_count": 51,
     "metadata": {},
     "output_type": "execute_result"
    }
   ],
   "source": [
    "interp.most_confused(2)"
   ]
  }
 ],
 "metadata": {
  "kernelspec": {
   "display_name": "Python 3",
   "language": "python",
   "name": "python3"
  },
  "language_info": {
   "codemirror_mode": {
    "name": "ipython",
    "version": 3
   },
   "file_extension": ".py",
   "mimetype": "text/x-python",
   "name": "python",
   "nbconvert_exporter": "python",
   "pygments_lexer": "ipython3",
   "version": "3.7.6"
  }
 },
 "nbformat": 4,
 "nbformat_minor": 4
}
